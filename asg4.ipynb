{
  "nbformat": 4,
  "nbformat_minor": 0,
  "metadata": {
    "colab": {
      "provenance": []
    },
    "kernelspec": {
      "name": "python3",
      "display_name": "Python 3"
    },
    "language_info": {
      "name": "python"
    }
  },
  "cells": [
    {
      "cell_type": "code",
      "execution_count": null,
      "metadata": {
        "id": "jDs2v00-Eb11"
      },
      "outputs": [],
      "source": [
        "import tensorflow as tf\n",
        "import numpy as np\n",
        "import matplotlib.pyplot as plt"
      ]
    },
    {
      "cell_type": "code",
      "source": [
        "(x_train, y_train), (x_test, y_test) = tf.keras.datasets.mnist.load_data()\n",
        "assert x_train.shape == (60000, 28, 28)\n",
        "assert x_test.shape == (10000, 28, 28)\n",
        "assert y_train.shape == (60000,)\n",
        "assert y_test.shape == (10000,)"
      ],
      "metadata": {
        "id": "FXFZ0Ie4EgBE"
      },
      "execution_count": null,
      "outputs": []
    },
    {
      "cell_type": "code",
      "source": [
        "plt.imshow(x_train[3],cmap='gray')"
      ],
      "metadata": {
        "colab": {
          "base_uri": "https://localhost:8080/",
          "height": 448
        },
        "id": "-RwGvF7DEiku",
        "outputId": "f8bf6119-4b0f-42c6-fe72-ef1a5b464b9b"
      },
      "execution_count": null,
      "outputs": [
        {
          "output_type": "execute_result",
          "data": {
            "text/plain": [
              "<matplotlib.image.AxesImage at 0x7ba2427c7610>"
            ]
          },
          "metadata": {},
          "execution_count": 42
        },
        {
          "output_type": "display_data",
          "data": {
            "text/plain": [
              "<Figure size 640x480 with 1 Axes>"
            ],
            "image/png": "[encoded data removed]"
          },
          "metadata": {}
        }
      ]
    },
    {
      "cell_type": "code",
      "source": [
        "def RBF(x, c, s):\n",
        "  return (np.exp(-np.sum((x - c)**2)/2*(s**2)))"
      ],
      "metadata": {
        "id": "5_FKZEz2EngO"
      },
      "execution_count": null,
      "outputs": []
    },
    {
      "cell_type": "code",
      "source": [
        "newX_train = []\n",
        "newX_test = []"
      ],
      "metadata": {
        "id": "zVKBoJ9nEvs9"
      },
      "execution_count": null,
      "outputs": []
    },
    {
      "cell_type": "code",
      "source": [
        "x_train.shape"
      ],
      "metadata": {
        "colab": {
          "base_uri": "https://localhost:8080/"
        },
        "id": "KJyFnuW1Ex52",
        "outputId": "2b9be943-58ab-47af-aed8-e924a88a1d0f"
      },
      "execution_count": null,
      "outputs": [
        {
          "output_type": "execute_result",
          "data": {
            "text/plain": [
              "(60000, 28, 28)"
            ]
          },
          "metadata": {},
          "execution_count": 45
        }
      ]
    },
    {
      "cell_type": "code",
      "source": [
        "for img in range(x_train.shape[0]):\n",
        "  # print(i)\n",
        "  image = x_train[img]\n",
        "  mean = np.mean(image)\n",
        "  # print(mean)\n",
        "  newImg = np.zeros((32, 32))\n",
        "  for i in range(32):\n",
        "    for j in range(32):\n",
        "      x, y = i%28 , j%28\n",
        "\n",
        "      newImg[i][j] = RBF(image[x, y], mean, 1)\n",
        "  newX_train.append(newImg)"
      ],
      "metadata": {
        "id": "0zWcsMoLE2ej"
      },
      "execution_count": null,
      "outputs": []
    },
    {
      "cell_type": "code",
      "source": [
        "x_train = np.array(newX_train)"
      ],
      "metadata": {
        "id": "RIPgnaIfE3n2"
      },
      "execution_count": null,
      "outputs": []
    },
    {
      "cell_type": "code",
      "source": [
        "x_train.shape"
      ],
      "metadata": {
        "colab": {
          "base_uri": "https://localhost:8080/"
        },
        "id": "cDo18T2MFLF8",
        "outputId": "766debaa-b1e2-4e03-ad4e-acf7c73a853f"
      },
      "execution_count": null,
      "outputs": [
        {
          "output_type": "execute_result",
          "data": {
            "text/plain": [
              "(60000, 32, 32)"
            ]
          },
          "metadata": {},
          "execution_count": 48
        }
      ]
    },
    {
      "cell_type": "code",
      "source": [
        "\n",
        "for img in range(x_test.shape[0]):\n",
        "  # print(i)\n",
        "  image = x_test[img]\n",
        "  mean = np.mean(image)\n",
        "  # print(mean)\n",
        "  newImg = np.zeros((32, 32))\n",
        "  for i in range(32):\n",
        "    for j in range(32):\n",
        "      x, y = i%28 , j%28\n",
        "\n",
        "      newImg[i][j] = RBF(image[x, y], mean, 1)\n",
        "  newX_test.append(newImg)"
      ],
      "metadata": {
        "id": "KYLcYcArFPGV"
      },
      "execution_count": null,
      "outputs": []
    },
    {
      "cell_type": "code",
      "source": [
        "x_test = np.array(newX_test)"
      ],
      "metadata": {
        "id": "Mnle-dwkFka7"
      },
      "execution_count": null,
      "outputs": []
    },
    {
      "cell_type": "code",
      "source": [
        "rbfmodel = tf.keras.Sequential([\n",
        "      # First define a Flatten layer\n",
        "      tf.keras.layers.Flatten(),\n",
        "      tf.keras.layers.Dense(32*32, activation=tf.nn.relu),\n",
        "      # ''' Define the activation function for the first fully connected (Dense) layer.'''\n",
        "      tf.keras.layers.Dense(1400, activation=tf.math.sigmoid),\n",
        "      # tf.keras.layers.Dense(128, activation= '''TODO'''),\n",
        "\n",
        "      # ''' Define the second Dense layer to output the classification probabilities'''\n",
        "      tf.keras.layers.Dense(10, activation=tf.nn.softmax)\n",
        "      #  Dense layer to output classification probabilities\n",
        "\n",
        "  ])\n",
        "rbfmodel.compile(optimizer=tf.keras.optimizers.SGD(learning_rate=1e-1),\n",
        "              loss='sparse_categorical_crossentropy',\n",
        "              metrics=['accuracy'])"
      ],
      "metadata": {
        "id": "j6433Q2PFp9_"
      },
      "execution_count": null,
      "outputs": []
    },
    {
      "cell_type": "code",
      "source": [
        "BATCH_SIZE = 64\n",
        "EPOCHS = 20\n",
        "\n",
        "history = rbfmodel.fit(x_train, y_train, batch_size=BATCH_SIZE, epochs=EPOCHS)"
      ],
      "metadata": {
        "colab": {
          "base_uri": "https://localhost:8080/"
        },
        "id": "LUmgrKNgFsgn",
        "outputId": "43bc1a71-22da-447c-e029-37275f3d3d68"
      },
      "execution_count": null,
      "outputs": [
        {
          "output_type": "stream",
          "name": "stdout",
          "text": [
            "Epoch 1/20\n",
            "938/938 [==============================] - 29s 31ms/step - loss: 2.2912 - accuracy: 0.1366\n",
            "Epoch 2/20\n",
            "938/938 [==============================] - 29s 31ms/step - loss: 2.2872 - accuracy: 0.1391\n",
            "Epoch 3/20\n",
            "938/938 [==============================] - 29s 31ms/step - loss: 2.2823 - accuracy: 0.1461\n",
            "Epoch 4/20\n",
            "938/938 [==============================] - 29s 31ms/step - loss: 2.2774 - accuracy: 0.1451\n",
            "Epoch 5/20\n",
            "938/938 [==============================] - 30s 31ms/step - loss: 2.2708 - accuracy: 0.1490\n",
            "Epoch 6/20\n",
            "938/938 [==============================] - 29s 31ms/step - loss: 2.2661 - accuracy: 0.1525\n",
            "Epoch 7/20\n",
            "938/938 [==============================] - 29s 31ms/step - loss: 2.2605 - accuracy: 0.1543\n",
            "Epoch 8/20\n",
            "938/938 [==============================] - 30s 32ms/step - loss: 2.2543 - accuracy: 0.1598\n",
            "Epoch 9/20\n",
            "938/938 [==============================] - 30s 32ms/step - loss: 2.2478 - accuracy: 0.1628\n",
            "Epoch 10/20\n",
            "938/938 [==============================] - 30s 32ms/step - loss: 2.2389 - accuracy: 0.1675\n",
            "Epoch 11/20\n",
            "938/938 [==============================] - 29s 31ms/step - loss: 2.2284 - accuracy: 0.1711\n",
            "Epoch 12/20\n",
            "938/938 [==============================] - 31s 33ms/step - loss: 2.2217 - accuracy: 0.1741\n",
            "Epoch 13/20\n",
            "938/938 [==============================] - 29s 31ms/step - loss: 2.2182 - accuracy: 0.1733\n",
            "Epoch 14/20\n",
            "938/938 [==============================] - 29s 31ms/step - loss: 2.2117 - accuracy: 0.1769\n",
            "Epoch 15/20\n",
            "938/938 [==============================] - 30s 32ms/step - loss: 2.2072 - accuracy: 0.1811\n",
            "Epoch 16/20\n",
            "938/938 [==============================] - 30s 32ms/step - loss: 2.2027 - accuracy: 0.1840\n",
            "Epoch 17/20\n",
            "938/938 [==============================] - 30s 32ms/step - loss: 2.1982 - accuracy: 0.1847\n",
            "Epoch 18/20\n",
            "938/938 [==============================] - 29s 31ms/step - loss: 2.1955 - accuracy: 0.1851\n",
            "Epoch 19/20\n",
            "938/938 [==============================] - 30s 32ms/step - loss: 2.1896 - accuracy: 0.1883\n",
            "Epoch 20/20\n",
            "938/938 [==============================] - 29s 31ms/step - loss: 2.1847 - accuracy: 0.1894\n"
          ]
        }
      ]
    },
    {
      "cell_type": "code",
      "source": [
        "plt.plot(history.history['loss'])\n",
        "plt.title(\"loss vs epoch\")\n",
        "plt.xlabel(\"epoch\")\n",
        "plt.ylabel(\"training loss\")\n",
        "plt.savefig(\"Performance\")"
      ],
      "metadata": {
        "colab": {
          "base_uri": "https://localhost:8080/",
          "height": 472
        },
        "id": "64pIKOUNFyX4",
        "outputId": "1386b762-ca27-4409-fe2f-0ad392f1073b"
      },
      "execution_count": null,
      "outputs": [
        {
          "output_type": "display_data",
          "data": {
            "text/plain": [
              "<Figure size 640x480 with 1 Axes>"
            ],
            "image/png": "[encoded data removed]"
          },
          "metadata": {}
        }
      ]
    },
    {
      "cell_type": "code",
      "source": [
        "print(\"evaluation accuracy\")\n",
        "eval = rbfmodel.evaluate(x = x_test, y = y_test, batch_size = 1)"
      ],
      "metadata": {
        "colab": {
          "base_uri": "https://localhost:8080/"
        },
        "id": "B5E_NPJ1F0dN",
        "outputId": "f98814de-c18b-4877-cc18-78a9078b225e"
      },
      "execution_count": null,
      "outputs": [
        {
          "output_type": "stream",
          "name": "stdout",
          "text": [
            "evaluation accuracy\n",
            "10000/10000 [==============================] - 31s 3ms/step - loss: 2.2298 - accuracy: 0.1596\n"
          ]
        }
      ]
    },
    {
      "cell_type": "code",
      "source": [
        "import numpy as np\n",
        "from sklearn.metrics import accuracy_score, precision_score, recall_score, f1_score, confusion_matrix\n",
        "\n",
        "\n",
        "\n",
        "# Make predictions on the test data\n",
        "y_pred = rbfmodel.predict(x_test)\n",
        "y_pred_classes = np.argmax(y_pred, axis=1)\n",
        "\n",
        "# Calculate accuracy\n",
        "accuracy = accuracy_score(y_test, y_pred_classes)\n",
        "print(f'Accuracy: {accuracy}')\n",
        "\n",
        "# Calculate precision, recall, and F1-score for each class\n",
        "precision = precision_score(y_test, y_pred_classes, average=None)\n",
        "recall = recall_score(y_test, y_pred_classes, average=None)\n",
        "f1 = f1_score(y_test, y_pred_classes, average=None)\n",
        "\n",
        "# Calculate confusion matrix\n",
        "conf_matrix = confusion_matrix(y_test, y_pred_classes)\n",
        "print('Confusion Matrix:')\n",
        "print(conf_matrix)\n",
        "\n",
        "# Print precision, recall, and F1-score for each class\n",
        "for i in range(10):\n",
        "    print(f'Class {i}: Precision={precision[i]}, Recall={recall[i]}, F1-Score={f1[i]}')\n"
      ],
      "metadata": {
        "colab": {
          "base_uri": "https://localhost:8080/"
        },
        "id": "ATZFh_64F2du",
        "outputId": "a22da09d-2460-4bd9-b2fd-94c037fd1f8b"
      },
      "execution_count": null,
      "outputs": [
        {
          "output_type": "stream",
          "name": "stdout",
          "text": [
            "313/313 [==============================] - 3s 8ms/step\n",
            "Accuracy: 0.1596\n",
            "Confusion Matrix:\n",
            "[[396  22   0   0  40  22   2 455  38   5]\n",
            " [147 166   0   0   4  22   0 738  58   0]\n",
            " [382  40   0   0  28  39  21 479  37   6]\n",
            " [360  28   0   0  35  35   9 490  40  13]\n",
            " [222  28   0   0  67  36   9 567  35  18]\n",
            " [262  35   0   0  43  42   7 455  39   9]\n",
            " [316  24   1   0  45  41  44 452  27   8]\n",
            " [105  18   0   0  31  21   2 808  27  16]\n",
            " [232  42   0   0  56  59   5 514  57   9]\n",
            " [118  29   0   0  54  26   1 717  48  16]]\n",
            "Class 0: Precision=0.15590551181102363, Recall=0.40408163265306124, F1-Score=0.225\n",
            "Class 1: Precision=0.38425925925925924, Recall=0.14625550660792952, F1-Score=0.211869814932993\n",
            "Class 2: Precision=0.0, Recall=0.0, F1-Score=0.0\n",
            "Class 3: Precision=0.0, Recall=0.0, F1-Score=0.0\n",
            "Class 4: Precision=0.1662531017369727, Recall=0.06822810590631365, F1-Score=0.09675090252707581\n",
            "Class 5: Precision=0.12244897959183673, Recall=0.04708520179372197, F1-Score=0.0680161943319838\n",
            "Class 6: Precision=0.44, Recall=0.04592901878914405, F1-Score=0.08317580340264649\n",
            "Class 7: Precision=0.14237885462555067, Recall=0.7859922178988327, F1-Score=0.24108608085931674\n",
            "Class 8: Precision=0.14039408866995073, Recall=0.058521560574948665, F1-Score=0.08260869565217391\n",
            "Class 9: Precision=0.16, Recall=0.015857284440039643, F1-Score=0.028854824165915238\n"
          ]
        },
        {
          "output_type": "stream",
          "name": "stderr",
          "text": [
            "/usr/local/lib/python3.10/dist-packages/sklearn/metrics/_classification.py:1344: UndefinedMetricWarning: Precision is ill-defined and being set to 0.0 in labels with no predicted samples. Use `zero_division` parameter to control this behavior.\n",
            "  _warn_prf(average, modifier, msg_start, len(result))\n"
          ]
        }
      ]
    }
  ]
}